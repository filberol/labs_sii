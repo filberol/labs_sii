{
 "cells": [
  {
   "cell_type": "code",
   "execution_count": 468,
   "outputs": [
    {
     "name": "stdout",
     "output_type": "stream",
     "text": [
      "                        name     role         type demographic  \\\n",
      "0                  poisonous   Target  Categorical        None   \n",
      "1                  cap-shape  Feature  Categorical        None   \n",
      "2                cap-surface  Feature  Categorical        None   \n",
      "3                  cap-color  Feature       Binary        None   \n",
      "4                    bruises  Feature  Categorical        None   \n",
      "5                       odor  Feature  Categorical        None   \n",
      "6            gill-attachment  Feature  Categorical        None   \n",
      "7               gill-spacing  Feature  Categorical        None   \n",
      "8                  gill-size  Feature  Categorical        None   \n",
      "9                 gill-color  Feature  Categorical        None   \n",
      "10               stalk-shape  Feature  Categorical        None   \n",
      "11                stalk-root  Feature  Categorical        None   \n",
      "12  stalk-surface-above-ring  Feature  Categorical        None   \n",
      "13  stalk-surface-below-ring  Feature  Categorical        None   \n",
      "14    stalk-color-above-ring  Feature  Categorical        None   \n",
      "15    stalk-color-below-ring  Feature  Categorical        None   \n",
      "16                 veil-type  Feature       Binary        None   \n",
      "17                veil-color  Feature  Categorical        None   \n",
      "18               ring-number  Feature  Categorical        None   \n",
      "19                 ring-type  Feature  Categorical        None   \n",
      "20         spore-print-color  Feature  Categorical        None   \n",
      "21                population  Feature  Categorical        None   \n",
      "22                   habitat  Feature  Categorical        None   \n",
      "\n",
      "                                          description units missing_values  \n",
      "0                                                None  None             no  \n",
      "1   bell=b,conical=c,convex=x,flat=f, knobbed=k,su...  None             no  \n",
      "2                fibrous=f,grooves=g,scaly=y,smooth=s  None             no  \n",
      "3   brown=n,buff=b,cinnamon=c,gray=g,green=r, pink...  None             no  \n",
      "4                                      bruises=t,no=f  None             no  \n",
      "5   almond=a,anise=l,creosote=c,fishy=y,foul=f, mu...  None             no  \n",
      "6            attached=a,descending=d,free=f,notched=n  None             no  \n",
      "7                         close=c,crowded=w,distant=d  None             no  \n",
      "8                                    broad=b,narrow=n  None             no  \n",
      "9   black=k,brown=n,buff=b,chocolate=h,gray=g, gre...  None             no  \n",
      "10                             enlarging=e,tapering=t  None             no  \n",
      "11  bulbous=b,club=c,cup=u,equal=e, rhizomorphs=z,...  None            yes  \n",
      "12                 fibrous=f,scaly=y,silky=k,smooth=s  None             no  \n",
      "13                 fibrous=f,scaly=y,silky=k,smooth=s  None             no  \n",
      "14  brown=n,buff=b,cinnamon=c,gray=g,orange=o, pin...  None             no  \n",
      "15  brown=n,buff=b,cinnamon=c,gray=g,orange=o, pin...  None             no  \n",
      "16                              partial=p,universal=u  None             no  \n",
      "17                  brown=n,orange=o,white=w,yellow=y  None             no  \n",
      "18                                 none=n,one=o,two=t  None             no  \n",
      "19  cobwebby=c,evanescent=e,flaring=f,large=l, non...  None             no  \n",
      "20  black=k,brown=n,buff=b,chocolate=h,green=r, or...  None             no  \n",
      "21  abundant=a,clustered=c,numerous=n, scattered=s...  None             no  \n",
      "22  grasses=g,leaves=l,meadows=m,paths=p, urban=u,...  None             no  \n"
     ]
    }
   ],
   "source": [
    "from math import ceil, sqrt\n",
    "import numpy as np\n",
    "import matplotlib.pyplot as plt\n",
    "from ucimlrepo import fetch_ucirepo\n",
    "\n",
    "# fetch dataset\n",
    "mushroom = fetch_ucirepo(id=73)\n",
    "\n",
    "# data (as pandas dataframes)\n",
    "df = mushroom.data.features\n",
    "y = mushroom.data.targets\n",
    "df['poisonous'] = y\n",
    "\n",
    "# variable information\n",
    "print(mushroom.variables)\n"
   ],
   "metadata": {
    "collapsed": false,
    "ExecuteTime": {
     "end_time": "2023-12-04T19:08:55.754977200Z",
     "start_time": "2023-12-04T19:08:51.765540Z"
    }
   }
  },
  {
   "cell_type": "code",
   "execution_count": 469,
   "outputs": [
    {
     "data": {
      "text/plain": "       cap-shape cap-surface cap-color bruises  odor gill-attachment  \\\ncount       5644        5644      5644    5644  5644            5644   \nunique         6           4         8       2     7               2   \ntop            x           y         g       t     n               f   \nfreq        2840        2220      1696    3184  2776            5626   \n\n       gill-spacing gill-size gill-color stalk-shape  ...  \\\ncount          5644      5644       5644        5644  ...   \nunique            2         2          9           2  ...   \ntop               c         b          p           t  ...   \nfreq           4620      4940       1384        2880  ...   \n\n       stalk-color-above-ring stalk-color-below-ring veil-type veil-color  \\\ncount                    5644                   5644      5644       5644   \nunique                      7                      7         1          2   \ntop                         w                      w         p          w   \nfreq                     3136                   3088      5644       5636   \n\n       ring-number ring-type spore-print-color population habitat poisonous  \ncount         5644      5644              5644       5644    5644      5644  \nunique           3         4                 6          6       6         2  \ntop              o         p                 n          v       d         e  \nfreq          5488      3488              1920       2160    2492      3488  \n\n[4 rows x 23 columns]",
      "text/html": "<div>\n<style scoped>\n    .dataframe tbody tr th:only-of-type {\n        vertical-align: middle;\n    }\n\n    .dataframe tbody tr th {\n        vertical-align: top;\n    }\n\n    .dataframe thead th {\n        text-align: right;\n    }\n</style>\n<table border=\"1\" class=\"dataframe\">\n  <thead>\n    <tr style=\"text-align: right;\">\n      <th></th>\n      <th>cap-shape</th>\n      <th>cap-surface</th>\n      <th>cap-color</th>\n      <th>bruises</th>\n      <th>odor</th>\n      <th>gill-attachment</th>\n      <th>gill-spacing</th>\n      <th>gill-size</th>\n      <th>gill-color</th>\n      <th>stalk-shape</th>\n      <th>...</th>\n      <th>stalk-color-above-ring</th>\n      <th>stalk-color-below-ring</th>\n      <th>veil-type</th>\n      <th>veil-color</th>\n      <th>ring-number</th>\n      <th>ring-type</th>\n      <th>spore-print-color</th>\n      <th>population</th>\n      <th>habitat</th>\n      <th>poisonous</th>\n    </tr>\n  </thead>\n  <tbody>\n    <tr>\n      <th>count</th>\n      <td>5644</td>\n      <td>5644</td>\n      <td>5644</td>\n      <td>5644</td>\n      <td>5644</td>\n      <td>5644</td>\n      <td>5644</td>\n      <td>5644</td>\n      <td>5644</td>\n      <td>5644</td>\n      <td>...</td>\n      <td>5644</td>\n      <td>5644</td>\n      <td>5644</td>\n      <td>5644</td>\n      <td>5644</td>\n      <td>5644</td>\n      <td>5644</td>\n      <td>5644</td>\n      <td>5644</td>\n      <td>5644</td>\n    </tr>\n    <tr>\n      <th>unique</th>\n      <td>6</td>\n      <td>4</td>\n      <td>8</td>\n      <td>2</td>\n      <td>7</td>\n      <td>2</td>\n      <td>2</td>\n      <td>2</td>\n      <td>9</td>\n      <td>2</td>\n      <td>...</td>\n      <td>7</td>\n      <td>7</td>\n      <td>1</td>\n      <td>2</td>\n      <td>3</td>\n      <td>4</td>\n      <td>6</td>\n      <td>6</td>\n      <td>6</td>\n      <td>2</td>\n    </tr>\n    <tr>\n      <th>top</th>\n      <td>x</td>\n      <td>y</td>\n      <td>g</td>\n      <td>t</td>\n      <td>n</td>\n      <td>f</td>\n      <td>c</td>\n      <td>b</td>\n      <td>p</td>\n      <td>t</td>\n      <td>...</td>\n      <td>w</td>\n      <td>w</td>\n      <td>p</td>\n      <td>w</td>\n      <td>o</td>\n      <td>p</td>\n      <td>n</td>\n      <td>v</td>\n      <td>d</td>\n      <td>e</td>\n    </tr>\n    <tr>\n      <th>freq</th>\n      <td>2840</td>\n      <td>2220</td>\n      <td>1696</td>\n      <td>3184</td>\n      <td>2776</td>\n      <td>5626</td>\n      <td>4620</td>\n      <td>4940</td>\n      <td>1384</td>\n      <td>2880</td>\n      <td>...</td>\n      <td>3136</td>\n      <td>3088</td>\n      <td>5644</td>\n      <td>5636</td>\n      <td>5488</td>\n      <td>3488</td>\n      <td>1920</td>\n      <td>2160</td>\n      <td>2492</td>\n      <td>3488</td>\n    </tr>\n  </tbody>\n</table>\n<p>4 rows × 23 columns</p>\n</div>"
     },
     "execution_count": 469,
     "metadata": {},
     "output_type": "execute_result"
    }
   ],
   "source": [
    "# В признаке stalk-root есть пустые значения, выбросим соответствующие строки из рассмотрения\n",
    "df.dropna(inplace=True)\n",
    "df.describe()"
   ],
   "metadata": {
    "collapsed": false,
    "ExecuteTime": {
     "end_time": "2023-12-04T19:08:55.840599700Z",
     "start_time": "2023-12-04T19:08:55.787414300Z"
    }
   }
  },
  {
   "cell_type": "code",
   "execution_count": 470,
   "outputs": [
    {
     "name": "stderr",
     "output_type": "stream",
     "text": [
      "C:\\Users\\Administrator\\AppData\\Local\\Temp\\ipykernel_13248\\3804506993.py:5: UserWarning: FigureCanvasAgg is non-interactive, and thus cannot be shown\n",
      "  fig.show()\n"
     ]
    },
    {
     "data": {
      "text/plain": "<Figure size 1500x500 with 5 Axes>",
      "image/png": "[encoded data removed]"
     },
     "metadata": {},
     "output_type": "display_data"
    }
   ],
   "source": [
    "categorical_features = mushroom.variables['name'].tolist()[0:5]\n",
    "fig, ax = plt.subplots(1, len(categorical_features), figsize=(15, 5))\n",
    "for i, categorical_feature in enumerate(df[categorical_features]):\n",
    "    df[categorical_feature].value_counts().plot(kind=\"bar\", ax=ax[i]).set_title(categorical_feature)\n",
    "fig.show()"
   ],
   "metadata": {
    "collapsed": false,
    "ExecuteTime": {
     "end_time": "2023-12-04T19:08:56.432144100Z",
     "start_time": "2023-12-04T19:08:55.799840800Z"
    }
   }
  },
  {
   "cell_type": "markdown",
   "source": [
    "## Дерево решений"
   ],
   "metadata": {
    "collapsed": false
   }
  },
  {
   "cell_type": "code",
   "execution_count": 471,
   "outputs": [],
   "source": [
    "class DecisionTreeNode:\n",
    "    __max_depth = 10\n",
    "    __node_entropy = 100000\n",
    "\n",
    "    def __init__(self, samples, features_left: list[str], depth=1):\n",
    "        self.__samples = samples    # Samples themselves\n",
    "        self.__current_depth = depth      # Which depth is noe one, equal to features - features_left\n",
    "        self.__features_left = features_left  # From which features to split on you can choose\n",
    "\n",
    "        self.__feature_split = ''    # On which feature we split, diving into every distinct value, not binary\n",
    "        self.__feature_values: list[str] = []  # All the possible feature values in node\n",
    "        self.__feature_value_nodes: list[DecisionTreeNode] = []   # Links to all child nodes (other)\n",
    "        self.__verdict = \"NaN\"  # Predicted class from current node (exists on every, but calculated only from leaf)\n",
    "        self.__verdict_prob = 0.0   # If the tree ended somehow, probability with samples\n",
    "\n",
    "        self.__find_entropy_for_self()\n",
    "\n",
    "    def get_samples_count(self): # working\n",
    "        return len(self.__samples)\n",
    "\n",
    "    def get_entropy_of_node(self):\n",
    "        return self.__node_entropy\n",
    "\n",
    "    def __find_entropy_for_self(self): # working\n",
    "        if self.get_samples_count() == 0:\n",
    "            self.__node_entropy = 10000.0\n",
    "        else:\n",
    "            target = self.__samples['poisonous']\n",
    "            part_true = (target == 'e').sum() / self.get_samples_count()\n",
    "            part_false = (target == 'p').sum() / self.get_samples_count()\n",
    "            if part_true > part_false:\n",
    "                self.__verdict = 'e'; self.__verdict_prob = part_true\n",
    "            else:\n",
    "                self.__verdict = 'p'; self.__verdict_prob = part_false\n",
    "            if part_true == 0.0 or part_true == 1.0:\n",
    "                self.__node_entropy = 0\n",
    "            else:\n",
    "                self.__node_entropy = -1 * (part_false * np.log(part_false) + part_true * np.log(part_true))\n",
    "\n",
    "    def __get_info_gain(self):\n",
    "        info_gain = self.__node_entropy\n",
    "        for ind, child_node in enumerate(self.__feature_value_nodes):\n",
    "            info_gain -= child_node.get_entropy_of_node() * (child_node.get_samples_count() / self.get_samples_count())\n",
    "        return info_gain\n",
    "\n",
    "    def __set_current_feature_and_split(self, feature: str):\n",
    "        if feature == '': return\n",
    "        self.__feature_split = feature\n",
    "        self.__feature_values = df[feature].unique()\n",
    "        self.__perform_split_on_current_feature()\n",
    "\n",
    "    def __perform_split_on_current_feature(self):\n",
    "        self.__feature_value_nodes = []\n",
    "        for feature_value in self.__feature_values:\n",
    "            new_sample_set = self.__samples[self.__samples[self.__feature_split] == feature_value]\n",
    "            self.__feature_value_nodes.append(DecisionTreeNode(\n",
    "                new_sample_set,[x for x in self.__features_left if x != self.__feature_split], self.__current_depth + 1,\n",
    "            )\n",
    "        )\n",
    "\n",
    "    def __find_next_best_feature(self):\n",
    "        if self.__node_entropy == 0.0 or len(self.__features_left) == 0 or\\\n",
    "            self.get_samples_count() == 0 or self.__current_depth == self.__max_depth:\n",
    "            return\n",
    "        max_info_gain = 0\n",
    "        max_info_gain_feature = ''\n",
    "        for feature in self.__features_left:\n",
    "            self.__set_current_feature_and_split(feature)\n",
    "            if self.__get_info_gain() > max_info_gain:\n",
    "                max_info_gain = self.__get_info_gain()\n",
    "                max_info_gain_feature = self.__feature_split\n",
    "        self.__set_current_feature_and_split(max_info_gain_feature)\n",
    "\n",
    "    def recursive_fit(self):\n",
    "        self.__find_next_best_feature()\n",
    "        for node in self.__feature_value_nodes:\n",
    "            node.recursive_fit()\n",
    "\n",
    "    def predict(self, sample):\n",
    "        if len(self.__feature_value_nodes) == 0:\n",
    "            return self.__verdict\n",
    "        for ind, feature_value in enumerate(self.__feature_values):\n",
    "            if sample[self.__feature_split] == feature_value:\n",
    "                if self.__feature_value_nodes[ind].get_samples_count() == 0:\n",
    "                    return self.__verdict\n",
    "                return self.__feature_value_nodes[ind].predict(sample)\n",
    "        return \"dont know\"\n",
    "\n",
    "    def print_tree_from_node(self):\n",
    "        if len(self.__feature_value_nodes) != 0:\n",
    "            self.__print_of_depth(f\"Node on feature {self.__feature_split}:\")\n",
    "            for ind, feature_node in enumerate(self.__feature_value_nodes):\n",
    "                self.__print_of_depth(\n",
    "                    f\"\\tValue - {self.__feature_values[ind]}, samples {self.__feature_value_nodes[ind].get_samples_count()}\"\n",
    "                )\n",
    "                self.__feature_value_nodes[ind].print_tree_from_node()\n",
    "        else:\n",
    "            self.__print_of_depth(f\"Leaf: result {self.__verdict} with prob {self.__verdict_prob}\")\n",
    "\n",
    "    def __print_of_depth(self, string: str):\n",
    "        print(\"\\t\" * self.__current_depth + string)"
   ],
   "metadata": {
    "collapsed": false,
    "ExecuteTime": {
     "end_time": "2023-12-04T19:08:56.444713400Z",
     "start_time": "2023-12-04T19:08:56.441646200Z"
    }
   }
  },
  {
   "cell_type": "markdown",
   "source": [
    "### Тренировка дерева по критерию прироста информации"
   ],
   "metadata": {
    "collapsed": false
   }
  },
  {
   "cell_type": "code",
   "execution_count": 472,
   "outputs": [
    {
     "name": "stdout",
     "output_type": "stream",
     "text": [
      "\tNode on feature odor:\n",
      "\t\tValue - p, samples 256\n",
      "\t\tLeaf: result p with prob 1.0\n",
      "\t\tValue - a, samples 400\n",
      "\t\tLeaf: result e with prob 1.0\n",
      "\t\tValue - l, samples 400\n",
      "\t\tLeaf: result e with prob 1.0\n",
      "\t\tValue - n, samples 2776\n",
      "\t\tNode on feature spore-print-color:\n",
      "\t\t\tValue - k, samples 1296\n",
      "\t\t\tLeaf: result e with prob 1.0\n",
      "\t\t\tValue - n, samples 1296\n",
      "\t\t\tLeaf: result e with prob 1.0\n",
      "\t\t\tValue - u, samples 0\n",
      "\t\t\tLeaf: result NaN with prob 0.0\n",
      "\t\t\tValue - h, samples 0\n",
      "\t\t\tLeaf: result NaN with prob 0.0\n",
      "\t\t\tValue - r, samples 72\n",
      "\t\t\tLeaf: result p with prob 1.0\n",
      "\t\t\tValue - w, samples 112\n",
      "\t\t\tNode on feature cap-color:\n",
      "\t\t\t\tValue - n, samples 48\n",
      "\t\t\t\tLeaf: result e with prob 1.0\n",
      "\t\t\t\tValue - y, samples 8\n",
      "\t\t\t\tLeaf: result p with prob 1.0\n",
      "\t\t\t\tValue - w, samples 8\n",
      "\t\t\t\tLeaf: result p with prob 1.0\n",
      "\t\t\t\tValue - g, samples 8\n",
      "\t\t\t\tLeaf: result e with prob 1.0\n",
      "\t\t\t\tValue - e, samples 0\n",
      "\t\t\t\tLeaf: result NaN with prob 0.0\n",
      "\t\t\t\tValue - p, samples 8\n",
      "\t\t\t\tLeaf: result e with prob 1.0\n",
      "\t\t\t\tValue - b, samples 0\n",
      "\t\t\t\tLeaf: result NaN with prob 0.0\n",
      "\t\t\t\tValue - c, samples 32\n",
      "\t\t\t\tLeaf: result e with prob 1.0\n",
      "\t\tValue - f, samples 1584\n",
      "\t\tLeaf: result p with prob 1.0\n",
      "\t\tValue - c, samples 192\n",
      "\t\tLeaf: result p with prob 1.0\n",
      "\t\tValue - m, samples 36\n",
      "\t\tLeaf: result p with prob 1.0\n"
     ]
    }
   ],
   "source": [
    "params1 = ['cap-shape', 'cap-surface' ,'cap-color', 'bruises',\n",
    "           'odor', 'gill-attachment', 'gill-spacing', 'gill-size',\n",
    "           'gill-color', 'stalk-shape', 'stalk-root', 'stalk-surface-above-ring',\n",
    "           'stalk-surface-below-ring', 'stalk-color-above-ring', 'stalk-color-below-ring',\n",
    "           'veil-type', 'veil-color', 'ring-number', 'ring-type', 'spore-print-color',\n",
    "           'population', 'habitat'\n",
    "           ]\n",
    "df_tree = DecisionTreeNode(df, params1)\n",
    "\n",
    "df_tree.recursive_fit()\n",
    "df_tree.print_tree_from_node()"
   ],
   "metadata": {
    "collapsed": false,
    "ExecuteTime": {
     "end_time": "2023-12-04T19:08:56.645298800Z",
     "start_time": "2023-12-04T19:08:56.447091300Z"
    }
   }
  },
  {
   "cell_type": "markdown",
   "source": [
    "### Тестирование"
   ],
   "metadata": {
    "collapsed": false
   }
  },
  {
   "cell_type": "code",
   "execution_count": 473,
   "outputs": [
    {
     "name": "stdout",
     "output_type": "stream",
     "text": [
      "Используются признаки: bruises bruises veil-type odor\n",
      "\tNode on feature odor:\n",
      "\t\tValue - p, samples 49\n",
      "\t\tLeaf: result p with prob 1.0\n",
      "\t\tValue - a, samples 77\n",
      "\t\tLeaf: result e with prob 1.0\n",
      "\t\tValue - l, samples 73\n",
      "\t\tLeaf: result e with prob 1.0\n",
      "\t\tValue - n, samples 558\n",
      "\t\tNode on feature bruises:\n",
      "\t\t\tValue - t, samples 388\n",
      "\t\t\tNode on feature veil-type:\n",
      "\t\t\t\tValue - p, samples 388\n",
      "\t\t\t\tLeaf: result e with prob 0.9561855670103093\n",
      "\t\t\tValue - f, samples 170\n",
      "\t\t\tNode on feature veil-type:\n",
      "\t\t\t\tValue - p, samples 170\n",
      "\t\t\t\tLeaf: result e with prob 0.9941176470588236\n",
      "\t\tValue - f, samples 328\n",
      "\t\tLeaf: result p with prob 1.0\n",
      "\t\tValue - c, samples 35\n",
      "\t\tLeaf: result p with prob 1.0\n",
      "\t\tValue - m, samples 9\n",
      "\t\tLeaf: result p with prob 1.0\n"
     ]
    }
   ],
   "source": [
    "# Train-test split\n",
    "samples_amount = 0.2\n",
    "random_state = 339106\n",
    "\n",
    "train = df.sample(frac=samples_amount, random_state=random_state)\n",
    "test = df.drop(train.index, axis=0)\n",
    "\n",
    "cols = df.columns\n",
    "cols = [x for x in np.random.choice(cols, ceil(sqrt(len(cols)))) if x != 'poisonous']\n",
    "\n",
    "print(\"Используются признаки:\", *cols)\n",
    "\n",
    "tree = DecisionTreeNode(train, cols)\n",
    "tree.recursive_fit()\n",
    "tree.print_tree_from_node()"
   ],
   "metadata": {
    "collapsed": false,
    "ExecuteTime": {
     "end_time": "2023-12-04T19:08:56.669544Z",
     "start_time": "2023-12-04T19:08:56.647309800Z"
    }
   }
  },
  {
   "cell_type": "markdown",
   "source": [
    "### Metrics"
   ],
   "metadata": {
    "collapsed": false
   }
  },
  {
   "cell_type": "code",
   "execution_count": 474,
   "outputs": [],
   "source": [
    "def confusion_matrix(pred_y, true_y):\n",
    "    res = np.zeros((2, 2))\n",
    "\n",
    "    for pred, true in zip(pred_y, true_y):\n",
    "        pred = 1 if pred == 'e' else 0\n",
    "        true = 1 if true == 'e' else 0\n",
    "        res[pred][true] += 1\n",
    "\n",
    "    return res\n",
    "\n",
    "def accuracy(conf):\n",
    "    return (conf[1][1] + conf[0][0]) / sum(conf.flatten())\n",
    "\n",
    "def precision(conf):\n",
    "    return conf[1][1] / (conf[1][1] + conf[1][0])\n",
    "\n",
    "def recall(conf):\n",
    "    return conf[1][1] / (conf[1][1] + conf[0][1])"
   ],
   "metadata": {
    "collapsed": false,
    "ExecuteTime": {
     "end_time": "2023-12-04T19:08:56.675601300Z",
     "start_time": "2023-12-04T19:08:56.672406900Z"
    }
   }
  },
  {
   "cell_type": "code",
   "execution_count": 475,
   "outputs": [
    {
     "name": "stdout",
     "output_type": "stream",
     "text": [
      "[[ 50. 371.]\n",
      " [ 80. 628.]]\n",
      "Accuracy: 0.6005314437555359\n",
      "Precision 0.8870056497175142\n",
      "Recall: 0.6286286286286287\n"
     ]
    }
   ],
   "source": [
    "predicted_y = [tree.predict(el) for el in train.iloc]\n",
    "conf = confusion_matrix(predicted_y, test['poisonous'])\n",
    "print(conf)\n",
    "print('Accuracy:', accuracy(conf))\n",
    "print('Precision', precision(conf))\n",
    "print('Recall:', recall(conf))"
   ],
   "metadata": {
    "collapsed": false,
    "ExecuteTime": {
     "end_time": "2023-12-04T19:08:56.720227700Z",
     "start_time": "2023-12-04T19:08:56.677613500Z"
    }
   }
  },
  {
   "cell_type": "code",
   "execution_count": 475,
   "outputs": [],
   "source": [
    "pred_prob = tree.pred_prob(test)\n",
    "probs = []\n",
    "\n",
    "for i in range(len(pred_prob)):\n",
    "    pred, prob = pred_prob[i]\n",
    "    if pred == 'e':\n",
    "        probs.append(prob)\n",
    "    else:\n",
    "        probs.append(1-prob)"
   ],
   "metadata": {
    "collapsed": false,
    "ExecuteTime": {
     "end_time": "2023-12-04T19:08:56.723491600Z",
     "start_time": "2023-12-04T19:08:56.722042800Z"
    }
   }
  }
 ],
 "metadata": {
  "kernelspec": {
   "display_name": "Python 3",
   "language": "python",
   "name": "python3"
  },
  "language_info": {
   "codemirror_mode": {
    "name": "ipython",
    "version": 2
   },
   "file_extension": ".py",
   "mimetype": "text/x-python",
   "name": "python",
   "nbconvert_exporter": "python",
   "pygments_lexer": "ipython2",
   "version": "2.7.6"
  }
 },
 "nbformat": 4,
 "nbformat_minor": 0
}
